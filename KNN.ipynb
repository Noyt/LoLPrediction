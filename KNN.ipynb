{
 "cells": [
  {
   "cell_type": "code",
   "execution_count": 46,
   "metadata": {},
   "outputs": [],
   "source": [
    "import numpy as np\n",
    "import pandas as pd\n",
    "import torch\n",
    "import matplotlib.pyplot as plt\n",
    "from torch.utils import data\n",
    "\n",
    "PROTO_POOL = 100\n"
   ]
  },
  {
   "cell_type": "code",
   "execution_count": 47,
   "metadata": {},
   "outputs": [],
   "source": [
    "#------------------------Dataset preparation-------------------------#\n",
    "# Loading\n",
    "df = pd.read_csv(\"league-of-legends-diamond-ranked-games-10-min/high_diamond_ranked_10min.csv\")\n",
    "\n",
    "df = df.set_index(['gameId'])\n",
    "df_indices = df.index\n",
    "\n",
    "# Mapping labels to approrpriate output form\n",
    "dic = {0: -1, 1: 1}\n",
    "labels = df['blueWins'].map(dic)\n",
    "\n",
    "df = df.drop(columns=['blueWins'])\n",
    "\n",
    "# Normalisation\n",
    "df = (df-df.mean())/df.std()\n",
    "\n",
    "dataset = df.to_numpy()\n",
    "labels = labels.to_numpy()\n",
    "\n",
    "#Randomisation\n",
    "random_indices = np.random.permutation(dataset.shape[0])\n",
    "dataset = dataset[random_indices]\n",
    "labels = labels[random_indices]"
   ]
  },
  {
   "cell_type": "code",
   "execution_count": 48,
   "metadata": {},
   "outputs": [],
   "source": [
    "#----------------------Defining methods-----------------------------------#\n",
    "\n",
    "def dist(a,b, distInd):\n",
    "    if(distInd == 0):\n",
    "        return np.linalg.norm(a-b)\n",
    "    else:\n",
    "        return np.sum(np.abs(a-b))\n",
    "\n",
    "def distarray(x, arr, distInd): #Returns the distance of each vector from arr and x\n",
    "    result_array = np.array([])\n",
    "    for row in arr:\n",
    "        result_array = np.append(result_array, dist(x,row, distInd))\n",
    "    return result_array[result_array > 0.00001]\n",
    "\n",
    "def minDist(x, arr, n, distInd): #Returns the indices of the n least distances\n",
    "    return np.argsort(distarray(x, arr, distInd))[:n]"
   ]
  },
  {
   "cell_type": "code",
   "execution_count": 49,
   "metadata": {},
   "outputs": [
    {
     "name": "stdout",
     "output_type": "stream",
     "text": [
      "54\n",
      "50\n",
      "K =  1\n",
      "K =  3\n",
      "K =  5\n",
      "K =  7\n",
      "K =  9\n",
      "K =  11\n",
      "K =  13\n",
      "K =  15\n",
      "K =  17\n",
      "K =  19\n",
      "K =  21\n",
      "K =  23\n",
      "K =  25\n",
      "K =  27\n",
      "K =  29\n",
      "K =  31\n",
      "K =  33\n",
      "K =  35\n",
      "K =  37\n",
      "K =  39\n",
      "K =  41\n",
      "K =  43\n",
      "K =  45\n",
      "K =  47\n",
      "K =  49\n"
     ]
    }
   ],
   "source": [
    "#-----------------------Creating prototypes ----------------------------#\n",
    "\n",
    "protoset = dataset[0:PROTO_POOL]\n",
    "protolabels = labels[0:PROTO_POOL]\n",
    "\n",
    "prototypes_eucl = np.zeros((1, protoset.shape[-1]))\n",
    "typeslabel_eucl = np.zeros((1,))\n",
    "prototypes_man = np.zeros((1, protoset.shape[-1]))\n",
    "typeslabel_man = np.zeros((1,))\n",
    "\n",
    "prototypes_eucl[0] = np.array([protoset[0]])\n",
    "typeslabel_eucl[0] = np.array([labels[0]])\n",
    "prototypes_man[0] = np.array([protoset[0]])\n",
    "typeslabel_man[0] = np.array([labels[0]])\n",
    "#print(prototypes)\n",
    "for i in range(1,PROTO_POOL):\n",
    "    index_min_dist_eucl = minDist(protoset[i], prototypes_eucl,1, 0)\n",
    "    index_min_dist_man = minDist(protoset[i], prototypes_man,1, 1)\n",
    "\n",
    "    if((typeslabel_eucl[index_min_dist_eucl[0]] != protolabels[i])):\n",
    "        prototypes_eucl = np.vstack([prototypes_eucl, protoset[i]])\n",
    "        typeslabel_eucl = np.append(typeslabel_eucl, labels[i])\n",
    "\n",
    "    if((typeslabel_man[index_min_dist_man[0]] != protolabels[i])):\n",
    "        prototypes_man = np.vstack([prototypes_man, protoset[i]])\n",
    "        typeslabel_man = np.append(typeslabel_man, labels[i])\n",
    "\n",
    "print(len(prototypes_man))\n",
    "print(len(prototypes_eucl))\n",
    "#--------------------------Computation-------------------------------#\n",
    "number_neighbors = 1\n",
    "sizes = []\n",
    "accuracies_eucl = []\n",
    "accuracies_man = []\n",
    "accuracy = 0;\n",
    "while (number_neighbors < np.minimum(len(prototypes_man), len(prototypes_eucl))):\n",
    "\n",
    "    print('K = ', number_neighbors)\n",
    "\n",
    "    guessedLabels_eucl= np.zeros(labels.shape)\n",
    "    guessedLabels_man= np.zeros(labels.shape)\n",
    "\n",
    "    for i in range(PROTO_POOL, dataset.shape[0]):\n",
    "        guessedLabels_eucl[i] = np.sign(np.sum(typeslabel_eucl[minDist(dataset[i], prototypes_eucl,number_neighbors, 0)]))\n",
    "        guessedLabels_man[i] = np.sign(np.sum(typeslabel_man[minDist(dataset[i], prototypes_man,number_neighbors, 0)]))\n",
    "\n",
    "    guesses_eucl = guessedLabels_eucl[100:len(guessedLabels_eucl)] + labels[100:len(labels)]\n",
    "    accuracy = np.count_nonzero(guesses_eucl)/len(guesses_eucl)\n",
    "    accuracies_eucl.append(accuracy)\n",
    "\n",
    "    guesses_man = guessedLabels_man[100:len(guessedLabels_man)] + labels[100:len(labels)]\n",
    "    accuracy = np.count_nonzero(guesses_man)/len(guesses_man)\n",
    "    accuracies_man.append(accuracy)\n",
    "\n",
    "\n",
    "    sizes.append(number_neighbors)\n",
    "    number_neighbors += 2    "
   ]
  },
  {
   "cell_type": "code",
   "execution_count": 51,
   "metadata": {},
   "outputs": [
    {
     "data": {
      "image/png": "[encoded data removed]",
      "text/plain": [
       "<Figure size 864x288 with 2 Axes>"
      ]
     },
     "metadata": {
      "needs_background": "light"
     },
     "output_type": "display_data"
    }
   ],
   "source": [
    "#----------------------------Graphs------------------------------#\n",
    "import matplotlib.pyplot as plt\n",
    "\n",
    "max_acc_eucl = np.max(accuracies_eucl)\n",
    "max_acc_man = np.max(accuracies_man)\n",
    "\n",
    "fig, axs = plt.subplots(1, 2, sharex=True, sharey=True, figsize = (12,4))\n",
    "#fig.suptitle('Validation, training and test average log-likelihoods with different parameters for learning rate and bacth size')\n",
    "\n",
    "fig.suptitle('Comparison of Euclidean and Manhattan metrics', fontsize = 'x-large')\n",
    "axs[0].plot(sizes,accuracies_eucl, label = 'Accuracy')\n",
    "axs[0].set_title('Euclidean distance')\n",
    "axs[0].set_xlabel('Number of neighbors')\n",
    "axs[0].set_ylabel('Accuracy')\n",
    "axs[0].hlines(max_acc_eucl, 0, 47, linestyles='dashed', colors='green', label = np.around(max_acc_eucl,4))\n",
    "axs[0].legend(fontsize= 'x-large', loc = 'lower left')\n",
    "\n",
    "axs[1].plot(sizes,accuracies_man, label = 'Accuracy')\n",
    "axs[1].set_title('Manhattan distance')\n",
    "axs[1].set_xlabel('Number of neighbors')\n",
    "axs[1].set_ylabel('Accuracy')\n",
    "axs[1].hlines(max_acc_man, 0, 47, linestyles='dashed', colors='green', label = np.around(max_acc_man,4))\n",
    "axs[1].legend(fontsize='x-large', loc = 'lower left')\n",
    "plt.show()"
   ]
  },
  {
   "cell_type": "code",
   "execution_count": 52,
   "metadata": {},
   "outputs": [],
   "source": [
    "fig.savefig(\"knn-comp\")"
   ]
  }
 ],
 "metadata": {
  "kernelspec": {
   "display_name": "Python 3",
   "language": "python",
   "name": "python3"
  },
  "language_info": {
   "codemirror_mode": {
    "name": "ipython",
    "version": 3
   },
   "file_extension": ".py",
   "mimetype": "text/x-python",
   "name": "python",
   "nbconvert_exporter": "python",
   "pygments_lexer": "ipython3",
   "version": "3.7.6"
  }
 },
 "nbformat": 4,
 "nbformat_minor": 4
}
