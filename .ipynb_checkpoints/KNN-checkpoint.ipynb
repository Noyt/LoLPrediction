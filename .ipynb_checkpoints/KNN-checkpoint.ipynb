{
 "cells": [
  {
   "cell_type": "code",
   "execution_count": 14,
   "metadata": {},
   "outputs": [],
   "source": [
    "import numpy as np\n",
    "import pandas as pd\n",
    "import torch\n",
    "import matplotlib.pyplot as plt\n",
    "from torch.utils import data\n",
    "\n",
    "PROTO_POOL = np.array([10,100,1000])\n"
   ]
  },
  {
   "cell_type": "code",
   "execution_count": 2,
   "metadata": {},
   "outputs": [],
   "source": [
    "#------------------------Dataset preparation-------------------------#\n",
    "# Loading\n",
    "df = pd.read_csv(\"league-of-legends-diamond-ranked-games-10-min/high_diamond_ranked_10min.csv\")\n",
    "\n",
    "df = df.set_index(['gameId'])\n",
    "df_indices = df.index\n",
    "\n",
    "# Mapping labels to approrpriate output form\n",
    "dic = {0: -1, 1: 1}\n",
    "labels = df['blueWins'].map(dic)\n",
    "\n",
    "df = df.drop(columns=['blueWins'])\n",
    "\n",
    "# Normalisation\n",
    "df = (df-df.mean())/df.std()\n",
    "\n",
    "dataset = df.to_numpy()\n",
    "labels = labels.to_numpy()\n",
    "\n",
    "#Randomisation\n",
    "random_indices = np.random.permutation(dataset.shape[0])\n",
    "dataset = dataset[random_indices]\n",
    "labels = labels[random_indices]"
   ]
  },
  {
   "cell_type": "code",
   "execution_count": 9,
   "metadata": {},
   "outputs": [],
   "source": [
    "#----------------------Defining methods-----------------------------------#\n",
    "\n",
    "def dist(a,b, distInd):\n",
    "    if(distInd == 0):\n",
    "        return np.linalg.norm(a-b)\n",
    "    else:\n",
    "        return np.sum(np.abs(a-b))\n",
    "\n",
    "def distarray(x, arr, distInd): #Returns the distance of each vector from arr and x\n",
    "    result_array = np.array([])\n",
    "    for row in arr:\n",
    "        result_array = np.append(result_array, dist(x,row, distInd))\n",
    "    return result_array[result_array > 0.00001]\n",
    "\n",
    "def minDist(x, arr, n, distInd): #Returns the indices of the n least distances\n",
    "    return np.argsort(distarray(x, arr, distInd))[:n]"
   ]
  },
  {
   "cell_type": "code",
   "execution_count": 16,
   "metadata": {},
   "outputs": [
    {
     "name": "stdout",
     "output_type": "stream",
     "text": [
      "5\n",
      "2\n",
      "K =  1\n",
      "48\n",
      "42\n",
      "K =  1\n",
      "K =  3\n"
     ]
    },
    {
     "ename": "KeyboardInterrupt",
     "evalue": "",
     "output_type": "error",
     "traceback": [
      "\u001b[1;31m---------------------------------------------------------------------------\u001b[0m",
      "\u001b[1;31mKeyboardInterrupt\u001b[0m                         Traceback (most recent call last)",
      "\u001b[1;32m<ipython-input-16-aa7c27f4181a>\u001b[0m in \u001b[0;36m<module>\u001b[1;34m\u001b[0m\n\u001b[0;32m     44\u001b[0m \u001b[1;33m\u001b[0m\u001b[0m\n\u001b[0;32m     45\u001b[0m         \u001b[1;32mfor\u001b[0m \u001b[0mi\u001b[0m \u001b[1;32min\u001b[0m \u001b[0mrange\u001b[0m\u001b[1;33m(\u001b[0m\u001b[0msize_pool\u001b[0m\u001b[1;33m,\u001b[0m \u001b[0mdataset\u001b[0m\u001b[1;33m.\u001b[0m\u001b[0mshape\u001b[0m\u001b[1;33m[\u001b[0m\u001b[1;36m0\u001b[0m\u001b[1;33m]\u001b[0m\u001b[1;33m)\u001b[0m\u001b[1;33m:\u001b[0m\u001b[1;33m\u001b[0m\u001b[1;33m\u001b[0m\u001b[0m\n\u001b[1;32m---> 46\u001b[1;33m             \u001b[0mguessedLabels_eucl\u001b[0m\u001b[1;33m[\u001b[0m\u001b[0mi\u001b[0m\u001b[1;33m]\u001b[0m \u001b[1;33m=\u001b[0m \u001b[0mnp\u001b[0m\u001b[1;33m.\u001b[0m\u001b[0msign\u001b[0m\u001b[1;33m(\u001b[0m\u001b[0mnp\u001b[0m\u001b[1;33m.\u001b[0m\u001b[0msum\u001b[0m\u001b[1;33m(\u001b[0m\u001b[0mtypeslabel_eucl\u001b[0m\u001b[1;33m[\u001b[0m\u001b[0mminDist\u001b[0m\u001b[1;33m(\u001b[0m\u001b[0mdataset\u001b[0m\u001b[1;33m[\u001b[0m\u001b[0mi\u001b[0m\u001b[1;33m]\u001b[0m\u001b[1;33m,\u001b[0m \u001b[0mprototypes_eucl\u001b[0m\u001b[1;33m,\u001b[0m\u001b[0mnumber_neighbors\u001b[0m\u001b[1;33m,\u001b[0m \u001b[1;36m0\u001b[0m\u001b[1;33m)\u001b[0m\u001b[1;33m]\u001b[0m\u001b[1;33m)\u001b[0m\u001b[1;33m)\u001b[0m\u001b[1;33m\u001b[0m\u001b[1;33m\u001b[0m\u001b[0m\n\u001b[0m\u001b[0;32m     47\u001b[0m             \u001b[0mguessedLabels_man\u001b[0m\u001b[1;33m[\u001b[0m\u001b[0mi\u001b[0m\u001b[1;33m]\u001b[0m \u001b[1;33m=\u001b[0m \u001b[0mnp\u001b[0m\u001b[1;33m.\u001b[0m\u001b[0msign\u001b[0m\u001b[1;33m(\u001b[0m\u001b[0mnp\u001b[0m\u001b[1;33m.\u001b[0m\u001b[0msum\u001b[0m\u001b[1;33m(\u001b[0m\u001b[0mtypeslabel_man\u001b[0m\u001b[1;33m[\u001b[0m\u001b[0mminDist\u001b[0m\u001b[1;33m(\u001b[0m\u001b[0mdataset\u001b[0m\u001b[1;33m[\u001b[0m\u001b[0mi\u001b[0m\u001b[1;33m]\u001b[0m\u001b[1;33m,\u001b[0m \u001b[0mprototypes_man\u001b[0m\u001b[1;33m,\u001b[0m\u001b[0mnumber_neighbors\u001b[0m\u001b[1;33m,\u001b[0m \u001b[1;36m0\u001b[0m\u001b[1;33m)\u001b[0m\u001b[1;33m]\u001b[0m\u001b[1;33m)\u001b[0m\u001b[1;33m)\u001b[0m\u001b[1;33m\u001b[0m\u001b[1;33m\u001b[0m\u001b[0m\n\u001b[0;32m     48\u001b[0m \u001b[1;33m\u001b[0m\u001b[0m\n",
      "\u001b[1;32m<ipython-input-9-3bf5360e899f>\u001b[0m in \u001b[0;36mminDist\u001b[1;34m(x, arr, n, distInd)\u001b[0m\n\u001b[0;32m     12\u001b[0m \u001b[1;33m\u001b[0m\u001b[0m\n\u001b[0;32m     13\u001b[0m \u001b[1;32mdef\u001b[0m \u001b[0mminDist\u001b[0m\u001b[1;33m(\u001b[0m\u001b[0mx\u001b[0m\u001b[1;33m,\u001b[0m \u001b[0marr\u001b[0m\u001b[1;33m,\u001b[0m \u001b[0mn\u001b[0m\u001b[1;33m,\u001b[0m \u001b[0mdistInd\u001b[0m\u001b[1;33m)\u001b[0m\u001b[1;33m:\u001b[0m\u001b[1;33m\u001b[0m\u001b[1;33m\u001b[0m\u001b[0m\n\u001b[1;32m---> 14\u001b[1;33m     \u001b[1;32mreturn\u001b[0m \u001b[0mnp\u001b[0m\u001b[1;33m.\u001b[0m\u001b[0margsort\u001b[0m\u001b[1;33m(\u001b[0m\u001b[0mdistarray\u001b[0m\u001b[1;33m(\u001b[0m\u001b[0mx\u001b[0m\u001b[1;33m,\u001b[0m \u001b[0marr\u001b[0m\u001b[1;33m,\u001b[0m \u001b[0mdistInd\u001b[0m\u001b[1;33m)\u001b[0m\u001b[1;33m)\u001b[0m\u001b[1;33m[\u001b[0m\u001b[1;33m:\u001b[0m\u001b[0mn\u001b[0m\u001b[1;33m]\u001b[0m\u001b[1;33m\u001b[0m\u001b[1;33m\u001b[0m\u001b[0m\n\u001b[0m",
      "\u001b[1;32m<ipython-input-9-3bf5360e899f>\u001b[0m in \u001b[0;36mdistarray\u001b[1;34m(x, arr, distInd)\u001b[0m\n\u001b[0;32m      8\u001b[0m     \u001b[0mresult_array\u001b[0m \u001b[1;33m=\u001b[0m \u001b[0mnp\u001b[0m\u001b[1;33m.\u001b[0m\u001b[0marray\u001b[0m\u001b[1;33m(\u001b[0m\u001b[1;33m[\u001b[0m\u001b[1;33m]\u001b[0m\u001b[1;33m)\u001b[0m\u001b[1;33m\u001b[0m\u001b[1;33m\u001b[0m\u001b[0m\n\u001b[0;32m      9\u001b[0m     \u001b[1;32mfor\u001b[0m \u001b[0mrow\u001b[0m \u001b[1;32min\u001b[0m \u001b[0marr\u001b[0m\u001b[1;33m:\u001b[0m\u001b[1;33m\u001b[0m\u001b[1;33m\u001b[0m\u001b[0m\n\u001b[1;32m---> 10\u001b[1;33m         \u001b[0mresult_array\u001b[0m \u001b[1;33m=\u001b[0m \u001b[0mnp\u001b[0m\u001b[1;33m.\u001b[0m\u001b[0mappend\u001b[0m\u001b[1;33m(\u001b[0m\u001b[0mresult_array\u001b[0m\u001b[1;33m,\u001b[0m \u001b[0mdist\u001b[0m\u001b[1;33m(\u001b[0m\u001b[0mx\u001b[0m\u001b[1;33m,\u001b[0m\u001b[0mrow\u001b[0m\u001b[1;33m,\u001b[0m \u001b[0mdistInd\u001b[0m\u001b[1;33m)\u001b[0m\u001b[1;33m)\u001b[0m\u001b[1;33m\u001b[0m\u001b[1;33m\u001b[0m\u001b[0m\n\u001b[0m\u001b[0;32m     11\u001b[0m     \u001b[1;32mreturn\u001b[0m \u001b[0mresult_array\u001b[0m\u001b[1;33m[\u001b[0m\u001b[0mresult_array\u001b[0m \u001b[1;33m>\u001b[0m \u001b[1;36m0.00001\u001b[0m\u001b[1;33m]\u001b[0m\u001b[1;33m\u001b[0m\u001b[1;33m\u001b[0m\u001b[0m\n\u001b[0;32m     12\u001b[0m \u001b[1;33m\u001b[0m\u001b[0m\n",
      "\u001b[1;32m<ipython-input-9-3bf5360e899f>\u001b[0m in \u001b[0;36mdist\u001b[1;34m(a, b, distInd)\u001b[0m\n\u001b[0;32m      1\u001b[0m \u001b[1;32mdef\u001b[0m \u001b[0mdist\u001b[0m\u001b[1;33m(\u001b[0m\u001b[0ma\u001b[0m\u001b[1;33m,\u001b[0m\u001b[0mb\u001b[0m\u001b[1;33m,\u001b[0m \u001b[0mdistInd\u001b[0m\u001b[1;33m)\u001b[0m\u001b[1;33m:\u001b[0m\u001b[1;33m\u001b[0m\u001b[1;33m\u001b[0m\u001b[0m\n\u001b[0;32m      2\u001b[0m     \u001b[1;32mif\u001b[0m\u001b[1;33m(\u001b[0m\u001b[0mdistInd\u001b[0m \u001b[1;33m==\u001b[0m \u001b[1;36m0\u001b[0m\u001b[1;33m)\u001b[0m\u001b[1;33m:\u001b[0m\u001b[1;33m\u001b[0m\u001b[1;33m\u001b[0m\u001b[0m\n\u001b[1;32m----> 3\u001b[1;33m         \u001b[1;32mreturn\u001b[0m \u001b[0mnp\u001b[0m\u001b[1;33m.\u001b[0m\u001b[0mlinalg\u001b[0m\u001b[1;33m.\u001b[0m\u001b[0mnorm\u001b[0m\u001b[1;33m(\u001b[0m\u001b[0ma\u001b[0m\u001b[1;33m-\u001b[0m\u001b[0mb\u001b[0m\u001b[1;33m)\u001b[0m\u001b[1;33m\u001b[0m\u001b[1;33m\u001b[0m\u001b[0m\n\u001b[0m\u001b[0;32m      4\u001b[0m     \u001b[1;32melse\u001b[0m\u001b[1;33m:\u001b[0m\u001b[1;33m\u001b[0m\u001b[1;33m\u001b[0m\u001b[0m\n\u001b[0;32m      5\u001b[0m         \u001b[1;32mreturn\u001b[0m \u001b[0mnp\u001b[0m\u001b[1;33m.\u001b[0m\u001b[0msum\u001b[0m\u001b[1;33m(\u001b[0m\u001b[0mnp\u001b[0m\u001b[1;33m.\u001b[0m\u001b[0mabs\u001b[0m\u001b[1;33m(\u001b[0m\u001b[0ma\u001b[0m\u001b[1;33m-\u001b[0m\u001b[0mb\u001b[0m\u001b[1;33m)\u001b[0m\u001b[1;33m)\u001b[0m\u001b[1;33m\u001b[0m\u001b[1;33m\u001b[0m\u001b[0m\n",
      "\u001b[1;32m<__array_function__ internals>\u001b[0m in \u001b[0;36mnorm\u001b[1;34m(*args, **kwargs)\u001b[0m\n",
      "\u001b[1;32m~\\Anaconda3\\envs\\tensorflow_env\\lib\\site-packages\\numpy\\linalg\\linalg.py\u001b[0m in \u001b[0;36mnorm\u001b[1;34m(x, ord, axis, keepdims)\u001b[0m\n\u001b[0;32m   2474\u001b[0m                 \u001b[0msqnorm\u001b[0m \u001b[1;33m=\u001b[0m \u001b[0mdot\u001b[0m\u001b[1;33m(\u001b[0m\u001b[0mx\u001b[0m\u001b[1;33m.\u001b[0m\u001b[0mreal\u001b[0m\u001b[1;33m,\u001b[0m \u001b[0mx\u001b[0m\u001b[1;33m.\u001b[0m\u001b[0mreal\u001b[0m\u001b[1;33m)\u001b[0m \u001b[1;33m+\u001b[0m \u001b[0mdot\u001b[0m\u001b[1;33m(\u001b[0m\u001b[0mx\u001b[0m\u001b[1;33m.\u001b[0m\u001b[0mimag\u001b[0m\u001b[1;33m,\u001b[0m \u001b[0mx\u001b[0m\u001b[1;33m.\u001b[0m\u001b[0mimag\u001b[0m\u001b[1;33m)\u001b[0m\u001b[1;33m\u001b[0m\u001b[1;33m\u001b[0m\u001b[0m\n\u001b[0;32m   2475\u001b[0m             \u001b[1;32melse\u001b[0m\u001b[1;33m:\u001b[0m\u001b[1;33m\u001b[0m\u001b[1;33m\u001b[0m\u001b[0m\n\u001b[1;32m-> 2476\u001b[1;33m                 \u001b[0msqnorm\u001b[0m \u001b[1;33m=\u001b[0m \u001b[0mdot\u001b[0m\u001b[1;33m(\u001b[0m\u001b[0mx\u001b[0m\u001b[1;33m,\u001b[0m \u001b[0mx\u001b[0m\u001b[1;33m)\u001b[0m\u001b[1;33m\u001b[0m\u001b[1;33m\u001b[0m\u001b[0m\n\u001b[0m\u001b[0;32m   2477\u001b[0m             \u001b[0mret\u001b[0m \u001b[1;33m=\u001b[0m \u001b[0msqrt\u001b[0m\u001b[1;33m(\u001b[0m\u001b[0msqnorm\u001b[0m\u001b[1;33m)\u001b[0m\u001b[1;33m\u001b[0m\u001b[1;33m\u001b[0m\u001b[0m\n\u001b[0;32m   2478\u001b[0m             \u001b[1;32mif\u001b[0m \u001b[0mkeepdims\u001b[0m\u001b[1;33m:\u001b[0m\u001b[1;33m\u001b[0m\u001b[1;33m\u001b[0m\u001b[0m\n",
      "\u001b[1;32m<__array_function__ internals>\u001b[0m in \u001b[0;36mdot\u001b[1;34m(*args, **kwargs)\u001b[0m\n",
      "\u001b[1;31mKeyboardInterrupt\u001b[0m: "
     ]
    }
   ],
   "source": [
    "accuracies_eucl_final=np.empty(len(PROTO_POOL),0)\n",
    "accuracies_man_final=np.empty(len(PROTO_POOL),0)\n",
    "\n",
    "for size_pool in PROTO_POOL :\n",
    "\n",
    "    #-----------------------Creating prototypes ----------------------------#\n",
    "\n",
    "    protoset = dataset[0:size_pool]\n",
    "    protolabels = labels[0:size_pool]\n",
    "\n",
    "    prototypes_eucl = np.zeros((1, protoset.shape[-1]))\n",
    "    typeslabel_eucl = np.zeros((1,))\n",
    "    prototypes_man = np.zeros((1, protoset.shape[-1]))\n",
    "    typeslabel_man = np.zeros((1,))\n",
    "\n",
    "    prototypes_eucl[0] = np.array([protoset[0]])\n",
    "    typeslabel_eucl[0] = np.array([labels[0]])\n",
    "    prototypes_man[0] = np.array([protoset[0]])\n",
    "    typeslabel_man[0] = np.array([labels[0]])\n",
    "    #print(prototypes)\n",
    "    for i in range(1,size_pool):\n",
    "        index_min_dist_eucl = minDist(protoset[i], prototypes_eucl,1, 0)\n",
    "        index_min_dist_man = minDist(protoset[i], prototypes_man,1, 1)\n",
    "\n",
    "        if((typeslabel_eucl[index_min_dist_eucl[0]] != protolabels[i])):\n",
    "            prototypes_eucl = np.vstack([prototypes_eucl, protoset[i]])\n",
    "            typeslabel_eucl = np.append(typeslabel_eucl, labels[i])\n",
    "\n",
    "        if((typeslabel_man[index_min_dist_man[0]] != protolabels[i])):\n",
    "            prototypes_man = np.vstack([prototypes_man, protoset[i]])\n",
    "            typeslabel_man = np.append(typeslabel_man, labels[i])\n",
    "\n",
    "    print(len(prototypes_man))\n",
    "    print(len(prototypes_eucl))\n",
    "    #--------------------------Computation-------------------------------#\n",
    "    number_neighbors = 1\n",
    "    sizes = []\n",
    "    accuracies_eucl = []\n",
    "    accuracies_man = []\n",
    "    accuracy = 0;\n",
    "    while (number_neighbors < np.minimum(len(prototypes_man), len(prototypes_eucl))):\n",
    "\n",
    "        print('K = ', number_neighbors)\n",
    "\n",
    "        guessedLabels_eucl= np.zeros(labels.shape)\n",
    "        guessedLabels_man= np.zeros(labels.shape)\n",
    "\n",
    "        for i in range(size_pool, dataset.shape[0]):\n",
    "            guessedLabels_eucl[i] = np.sign(np.sum(typeslabel_eucl[minDist(dataset[i], prototypes_eucl,number_neighbors, 0)]))\n",
    "            guessedLabels_man[i] = np.sign(np.sum(typeslabel_man[minDist(dataset[i], prototypes_man,number_neighbors, 0)]))\n",
    "\n",
    "        guesses_eucl = guessedLabels_eucl[100:len(guessedLabels_eucl)] + labels[100:len(labels)]\n",
    "        accuracy = np.count_nonzero(guesses_eucl)/len(guesses_eucl)\n",
    "        accuracies_eucl.append(accuracy)\n",
    "\n",
    "        guesses_man = guessedLabels_man[100:len(guessedLabels_man)] + labels[100:len(labels)]\n",
    "        accuracy = np.count_nonzero(guesses_man)/len(guesses_man)\n",
    "        accuracies_man.append(accuracy)\n",
    "\n",
    "\n",
    "        sizes.append(number_neighbors)\n",
    "        number_neighbors += 2\n",
    "    \n",
    "    "
   ]
  },
  {
   "cell_type": "code",
   "execution_count": 5,
   "metadata": {},
   "outputs": [
    {
     "name": "stdout",
     "output_type": "stream",
     "text": [
      "K =  1\n",
      "K =  3\n",
      "K =  5\n",
      "K =  7\n",
      "K =  9\n",
      "K =  11\n",
      "K =  13\n",
      "K =  15\n",
      "K =  17\n",
      "K =  19\n",
      "K =  21\n",
      "K =  23\n",
      "K =  25\n",
      "K =  27\n",
      "K =  29\n",
      "K =  31\n",
      "K =  33\n",
      "K =  35\n",
      "K =  37\n",
      "K =  39\n",
      "K =  41\n",
      "K =  43\n",
      "K =  45\n",
      "K =  47\n"
     ]
    }
   ],
   "source": []
  },
  {
   "cell_type": "code",
   "execution_count": 7,
   "metadata": {},
   "outputs": [
    {
     "data": {
      "image/png": "[encoded data removed]",
      "text/plain": [
       "<Figure size 864x288 with 2 Axes>"
      ]
     },
     "metadata": {
      "needs_background": "light"
     },
     "output_type": "display_data"
    }
   ],
   "source": [
    "import matplotlib.pyplot as plt\n",
    "\n",
    "max_acc_eucl = np.max(accuracies_eucl)\n",
    "max_acc_man = np.max(accuracies_man)\n",
    "\n",
    "fig, axs = plt.subplots(1, 2, sharex=True, sharey=True, figsize = (12,4))\n",
    "#fig.suptitle('Validation, training and test average log-likelihoods with different parameters for learning rate and bacth size')\n",
    "\n",
    "fig.suptitle('Comparison of Euclidean and Manhattan metrics', fontsize = 'x-large')\n",
    "axs[0].plot(sizes,accuracies_eucl, label = 'Accuracy')\n",
    "axs[0].set_title('Euclidean distance')\n",
    "axs[0].set_xlabel('Number of neighbors')\n",
    "axs[0].set_ylabel('Accuracy')\n",
    "axs[0].hlines(max_acc_eucl, 0, 47, linestyles='dashed', colors='green', label = np.around(max_acc_eucl,4))\n",
    "axs[0].legend(fontsize= 'x-large', loc = 'lower left')\n",
    "\n",
    "axs[1].plot(sizes,accuracies_man, label = 'Accuracy')\n",
    "axs[1].set_title('Manhattan distance')\n",
    "axs[1].set_xlabel('Number of neighbors')\n",
    "axs[1].set_ylabel('Accuracy')\n",
    "axs[1].hlines(max_acc_man, 0, 47, linestyles='dashed', colors='green', label = np.around(max_acc_man,4))\n",
    "axs[1].legend(fontsize='x-large', loc = 'lower left')\n",
    "plt.show()"
   ]
  }
 ],
 "metadata": {
  "kernelspec": {
   "display_name": "Python 3",
   "language": "python",
   "name": "python3"
  },
  "language_info": {
   "codemirror_mode": {
    "name": "ipython",
    "version": 3
   },
   "file_extension": ".py",
   "mimetype": "text/x-python",
   "name": "python",
   "nbconvert_exporter": "python",
   "pygments_lexer": "ipython3",
   "version": "3.7.6"
  }
 },
 "nbformat": 4,
 "nbformat_minor": 4
}
