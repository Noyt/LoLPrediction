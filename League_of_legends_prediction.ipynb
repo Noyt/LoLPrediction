{
 "cells": [
  {
   "cell_type": "code",
   "execution_count": 1,
   "metadata": {},
   "outputs": [],
   "source": [
    "import torch\n",
    "from torch import nn\n",
    "import torch.nn.functional as F\n",
    "import pandas as pd\n",
    "import numpy as np\n",
    "import matplotlib.pyplot as plt\n",
    "import torch.optim as optim\n",
    "from torch.utils import data\n",
    "\n",
    "FEAT_DIM = 38\n",
    "INTER_DIM = 20\n",
    "RES_DIM = 2\n",
    "LR = 0.001\n",
    "NB_EPOCH = 20\n",
    "TEST_SPLIT = 20\n",
    "VALID_SPLIT = 10\n",
    "\n",
    "criterion = nn.MSELoss()\n",
    "\n",
    "# CUDA for PyTorch\n",
    "use_cuda = torch.cuda.is_available()\n",
    "device = torch.device(\"cuda:0\" if use_cuda else \"cpu\")\n",
    "\n",
    "# Parameters\n",
    "params = {'batch_size': 64,\n",
    "          'shuffle': True,\n",
    "          'num_workers': 6}\n",
    "\n",
    "class Net(nn.Module):\n",
    "    \n",
    "    def __init__(self):\n",
    "        super(Net, self).__init__()\n",
    "        self.fcTop = nn.Linear(in_features=FEAT_DIM, out_features=INTER_DIM) \n",
    "        self.fcMid = nn.Linear(in_features=INTER_DIM, out_features=INTER_DIM)\n",
    "        self.fcBot = nn.Linear(in_features=INTER_DIM, out_features=RES_DIM)\n",
    "        \n",
    "    def forward(self, x):\n",
    "        x = F.relu(self.fcTop(x))\n",
    "        for i in range(2):\n",
    "            x = F.relu(self.fcMid(x))\n",
    "        x = self.fcBot(x)\n",
    "        x = F.softmax(x, dim=1)\n",
    "        return x\n",
    "\n",
    "    \n",
    "class Dataset(data.Dataset):\n",
    "  #Characterizes a dataset for PyTorch\n",
    "    def __init__(self, list_IDs, labels, df):\n",
    "        'Initialization'\n",
    "        self.labels = labels\n",
    "        self.list_IDs = list_IDs\n",
    "        self.df = df\n",
    "\n",
    "    def __len__(self):\n",
    "        'Denotes the total number of samples'\n",
    "        return len(self.list_IDs)\n",
    "    \n",
    "    def __getitem__(self, index):\n",
    "        'Generates one sample of data'\n",
    "        # Select sample\n",
    "        ID = self.list_IDs[index].item()\n",
    "        # Load data and get label\n",
    "        X = torch.Tensor(self.df.loc[ID].values)\n",
    "        y = self.labels[ID]\n",
    "\n",
    "        return X, y\n",
    "\n",
    "    \n",
    "def testTrainValidSplit(dataset, test_split=20, valid_split=10):\n",
    "    \n",
    "    def split(dt, percen):\n",
    "        total_len = dt.size()[0]\n",
    "        first_len = total_len*percen//100\n",
    "        second_len = total_len-first_len\n",
    "        second_idx = np.random.choice(total_len, second_len, replace=False)\n",
    "        mask = np.ones(total_len)\n",
    "        mask[second_idx] = 0\n",
    "    \n",
    "        second_set = dt[second_idx, :]\n",
    "        first_set = dt[np.squeeze(np.argwhere(mask)),:]\n",
    "        return first_set, second_set\n",
    "    \n",
    "    test_set, train_set = split(dataset, test_split)\n",
    "    valid_set, train_set = split(train_set, valid_split)\n",
    "    \n",
    "    return test_set, train_set, valid_set"
   ]
  },
  {
   "cell_type": "code",
   "execution_count": 2,
   "metadata": {},
   "outputs": [],
   "source": [
    "#------------------------Dataset preparation-------------------------\n",
    "# Loading\n",
    "df = pd.read_csv(\"league-of-legends-diamond-ranked-games-10-min/high_diamond_ranked_10min.csv\")\n",
    "dataset = torch.tensor(df.values)\n",
    "\n",
    "# Random train/test split\n",
    "test_set, train_set, valid_set = testTrainValidSplit(dataset, test_split=TEST_SPLIT, valid_split=VALID_SPLIT)\n",
    "train_target = train_set[:,1]\n",
    "train_data_IDs = train_set[:,0]\n",
    "test_target = test_set[:,1]\n",
    "test_data_IDs = test_set[:,0]\n",
    "valid_target = valid_set[:,1]\n",
    "valid_data_IDs = valid_set[:,0]\n",
    "\n",
    "# Datasets\n",
    "partition = {}\n",
    "partition['train'] = train_data_IDs\n",
    "partition['valid'] = valid_data_IDs\n",
    "partition['test'] = test_data_IDs\n",
    "\n",
    "df = df.set_index(['gameId'])\n",
    "\n",
    "# Mapping labels to approrpriate output form\n",
    "dic = {0: (1,0), 1: (0,1)}\n",
    "labels = df['blueWins'].map(dic).to_dict()\n",
    "\n",
    "df = df.drop(columns=['blueWins'])\n",
    "\n",
    "# Normalisation\n",
    "df = (df-df.mean())/df.std()\n",
    "\n",
    "# Generators\n",
    "training_set = Dataset(partition['train'], labels, df)\n",
    "training_generator = data.DataLoader(training_set, **params)\n",
    "\n",
    "validation_set = Dataset(partition['valid'], labels, df)\n",
    "validation_generator = data.DataLoader(validation_set, **params)\n",
    "\n",
    "test_set = Dataset(partition['test'], labels, df)\n",
    "test_generator = data.DataLoader(test_set, **params)"
   ]
  },
  {
   "cell_type": "code",
   "execution_count": 3,
   "metadata": {},
   "outputs": [
    {
     "data": {
      "image/png": "[encoded data removed]",
      "text/plain": [
       "<Figure size 432x288 with 1 Axes>"
      ]
     },
     "metadata": {
      "needs_background": "light"
     },
     "output_type": "display_data"
    }
   ],
   "source": [
    "#------------------------Model preparation-------------------------\n",
    "net = Net()\n",
    "optimizer = optim.SGD(net.parameters(), lr=LR)\n",
    "\n",
    "train_losses = []\n",
    "valid_losses = []\n",
    "\n",
    "\n",
    "# Loop over epochs\n",
    "for epoch in range(NB_EPOCH):\n",
    "    # Training\n",
    "    for local_batch, local_labels in training_generator:\n",
    "        # Transfer to GPU\n",
    "        local_labels = torch.stack((local_labels[0], local_labels[1]), dim=1)\n",
    "        local_batch, local_labels = local_batch.to(device), local_labels.to(device)\n",
    "\n",
    "        \n",
    "        # Model computations\n",
    "        optimizer.zero_grad()\n",
    "        output = net(local_batch)\n",
    "        loss = criterion(output, local_labels.to(dtype=torch.float))\n",
    "        train_losses.append(loss)\n",
    "        loss.backward()\n",
    "        optimizer.step()\n",
    "\n",
    "    # Validation\n",
    "    with torch.set_grad_enabled(False):\n",
    "        for local_batch, local_labels in validation_generator:\n",
    "            # Transfer to GPU\n",
    "            local_labels = torch.stack((local_labels[0], local_labels[1]), dim=1)\n",
    "            local_batch, local_labels = local_batch.to(device), local_labels.to(device)\n",
    "\n",
    "            # Model computations\n",
    "            output = net(local_batch)\n",
    "            loss = criterion(output, local_labels.to(dtype=torch.float))\n",
    "            valid_losses.append(loss)\n",
    "            \n",
    "            \n",
    "plt.plot(train_losses, label = 'Training')\n",
    "plt.plot(valid_losses, label = 'Validation')\n",
    "plt.grid()\n",
    "plt.show()"
   ]
  },
  {
   "cell_type": "code",
   "execution_count": 4,
   "metadata": {},
   "outputs": [
    {
     "name": "stdout",
     "output_type": "stream",
     "text": [
      "Test Accuracy: 0.7058227848101266\n"
     ]
    }
   ],
   "source": [
    "# Testing\n",
    "\n",
    "total_count = 0\n",
    "correct_count = 0\n",
    "\n",
    "with torch.set_grad_enabled(False):\n",
    "        for local_batch, local_labels in test_generator:\n",
    "            # Transfer to GPU\n",
    "            local_labels = torch.stack((local_labels[0], local_labels[1]), dim=1)\n",
    "            local_batch, local_labels = local_batch.to(device), local_labels.to(device)\n",
    "\n",
    "            # Model computations\n",
    "            output = net(local_batch)\n",
    "            a = output.numpy()\n",
    "            b = local_labels.numpy()\n",
    "            a = np.argmax(a, axis=1)\n",
    "            b = np.argmax(b, axis=1)\n",
    "            c = a==b\n",
    "            total_count = total_count + c.size\n",
    "            correct_count = correct_count + np.sum(c)\n",
    "            \n",
    "print(\"Test Accuracy: {}\".format(correct_count/total_count))"
   ]
  },
  {
   "cell_type": "code",
   "execution_count": 5,
   "metadata": {},
   "outputs": [
    {
     "data": {
      "text/plain": [
       "55"
      ]
     },
     "execution_count": 5,
     "metadata": {},
     "output_type": "execute_result"
    }
   ],
   "source": [
    "c.size"
   ]
  }
 ],
 "metadata": {
  "kernelspec": {
   "display_name": "Python 3",
   "language": "python",
   "name": "python3"
  },
  "language_info": {
   "codemirror_mode": {
    "name": "ipython",
    "version": 3
   },
   "file_extension": ".py",
   "mimetype": "text/x-python",
   "name": "python",
   "nbconvert_exporter": "python",
   "pygments_lexer": "ipython3",
   "version": "3.7.4"
  }
 },
 "nbformat": 4,
 "nbformat_minor": 2
}
