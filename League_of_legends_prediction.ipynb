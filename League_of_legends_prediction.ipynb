{
 "cells": [
  {
   "cell_type": "code",
   "execution_count": 73,
   "metadata": {},
   "outputs": [],
   "source": [
    "import torch\n",
    "from torch import nn\n",
    "import torch.nn.functional as F\n",
    "import pandas as pd\n",
    "import numpy as np\n",
    "import matplotlib.pyplot as plt\n",
    "import torch.optim as optim\n",
    "\n",
    "FEAT_DIM = 38\n",
    "INTER_DIM = 20\n",
    "RES_DIM = 2\n",
    "LR = 0.01\n",
    "NB_EPOCH = 1\n",
    "TEST_SPLIT = 20\n",
    "VALID_SPLIT = 10\n",
    "\n",
    "criterion = nn.MSELoss()\n",
    "\n",
    "class Net(nn.Module):\n",
    "    \n",
    "    def __init__(self):\n",
    "        super(Net, self).__init__()\n",
    "        self.fcTop = nn.Linear(in_features=FEAT_DIM, out_features=INTER_DIM) \n",
    "        self.fcMid = nn.Linear(in_features=INTER_DIM, out_features=INTER_DIM)\n",
    "        self.fcBot = nn.Linear(in_features=INTER_DIM, out_features=RES_DIM)\n",
    "        \n",
    "    def forward(self, x):\n",
    "        x = F.relu(self.fcTop(x))\n",
    "        for i in range(2):\n",
    "            x = F.relu(self.fcMid(x))\n",
    "        x = self.fcBot(x)\n",
    "        return x\n",
    "\n",
    "def testTrainValidSplit(dataset, test_split=20, valid_split=10):\n",
    "    \n",
    "    def split(dt, percen):\n",
    "        total_len = dt.size()[0]\n",
    "        first_len = total_len*percen//100\n",
    "        second_len = total_len-first_len\n",
    "        second_idx = np.random.choice(total_len, second_len, replace=False)\n",
    "        mask = np.ones(total_len)\n",
    "        mask[second_idx] = 0\n",
    "    \n",
    "        second_set = dt[second_idx, :]\n",
    "        first_set = dt[np.squeeze(np.argwhere(mask)),:]\n",
    "        return first_set, second_set\n",
    "    \n",
    "    test_set, train_set = split(dataset, test_split)\n",
    "    valid_set, train_set = split(train_set, valid_split)\n",
    "    \n",
    "    return test_set, train_set, valid_set"
   ]
  },
  {
   "cell_type": "code",
   "execution_count": 76,
   "metadata": {},
   "outputs": [],
   "source": [
    "#------------------------Dataset preparation-------------------------\n",
    "#Loading\n",
    "df = pd.read_csv(\"league-of-legends-diamond-ranked-games-10-min/high_diamond_ranked_10min.csv\")\n",
    "df = df.drop(columns=['gameId'])\n",
    "dataset = torch.tensor(df.values)\n",
    "\n",
    "#Random train/test split\n",
    "test_set, train_set, valid_set = testTrainValidSplit(dataset, test_split=TEST_SPLIT, valid_split=VALID_SPLIT)\n",
    "train_target = train_set[:,0]\n",
    "train_data = train_set[:,1:]\n",
    "test_target = test_set[:,0]\n",
    "test_data = test_set[:,1:]\n",
    "valid_target = valid_set[:,0]\n",
    "valid_data = valid_set[:,1:]\n"
   ]
  },
  {
   "cell_type": "code",
   "execution_count": 80,
   "metadata": {},
   "outputs": [
    {
     "data": {
      "text/plain": [
       "'\\nfor e in range(NB_EPOCH):\\n    optimizer.zero_grad()\\n    output = net(train_set)\\n    loss = criterion(output, target)\\n    loss.backward()\\n    optimizer.step()\\n'"
      ]
     },
     "execution_count": 80,
     "metadata": {},
     "output_type": "execute_result"
    }
   ],
   "source": [
    "#------------------------Model preparation-------------------------\n",
    "net = Net()\n",
    "optimizer = optim.SGD(net.parameters(), lr=LR)\n",
    "\n",
    "\"\"\"\n",
    "for e in range(NB_EPOCH):\n",
    "    optimizer.zero_grad()\n",
    "    output = net(train_set)\n",
    "    loss = criterion(output, target)\n",
    "    loss.backward()\n",
    "    optimizer.step()\n",
    "\"\"\"\n"
   ]
  }
 ],
 "metadata": {
  "kernelspec": {
   "display_name": "Python 3",
   "language": "python",
   "name": "python3"
  },
  "language_info": {
   "codemirror_mode": {
    "name": "ipython",
    "version": 3
   },
   "file_extension": ".py",
   "mimetype": "text/x-python",
   "name": "python",
   "nbconvert_exporter": "python",
   "pygments_lexer": "ipython3",
   "version": "3.7.4"
  }
 },
 "nbformat": 4,
 "nbformat_minor": 2
}
